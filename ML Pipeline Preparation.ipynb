{
 "cells": [
  {
   "cell_type": "markdown",
   "metadata": {},
   "source": [
    "# ML Pipeline Preparation\n",
    "Follow the instructions below to help you create your ML pipeline.\n",
    "### 1. Import libraries and load data from database.\n",
    "- Import Python libraries\n",
    "- Load dataset from database with [`read_sql_table`](https://pandas.pydata.org/pandas-docs/stable/generated/pandas.read_sql_table.html)\n",
    "- Define feature and target variables X and Y"
   ]
  },
  {
   "cell_type": "code",
   "execution_count": 1,
   "metadata": {},
   "outputs": [
    {
     "name": "stdout",
     "output_type": "stream",
     "text": [
      "[nltk_data] Downloading package punkt to /root/nltk_data...\n",
      "[nltk_data]   Unzipping tokenizers/punkt.zip.\n",
      "[nltk_data] Downloading package wordnet to /root/nltk_data...\n",
      "[nltk_data]   Unzipping corpora/wordnet.zip.\n",
      "[nltk_data] Downloading package averaged_perceptron_tagger to\n",
      "[nltk_data]     /root/nltk_data...\n",
      "[nltk_data]   Unzipping taggers/averaged_perceptron_tagger.zip.\n",
      "[nltk_data] Downloading package stopwords to /root/nltk_data...\n",
      "[nltk_data]   Unzipping corpora/stopwords.zip.\n"
     ]
    },
    {
     "data": {
      "text/plain": [
       "True"
      ]
     },
     "execution_count": 1,
     "metadata": {},
     "output_type": "execute_result"
    }
   ],
   "source": [
    "import nltk\n",
    "nltk.download(['punkt', 'wordnet', 'averaged_perceptron_tagger', 'stopwords'])"
   ]
  },
  {
   "cell_type": "code",
   "execution_count": 2,
   "metadata": {},
   "outputs": [],
   "source": [
    "# import libraries\n",
    "\n",
    "import numpy as np\n",
    "import pandas as pd\n",
    "from sqlalchemy import create_engine\n",
    "from nltk.tokenize import word_tokenize\n",
    "from nltk.stem import WordNetLemmatizer\n",
    "from nltk.corpus import stopwords\n",
    "\n",
    "from sklearn.metrics import confusion_matrix\n",
    "from sklearn.ensemble import RandomForestClassifier\n",
    "from sklearn.multioutput import MultiOutputClassifier\n",
    "\n",
    "from sklearn.base import BaseEstimator, TransformerMixin\n",
    "\n",
    "from sklearn.metrics import classification_report\n",
    "from sklearn.feature_extraction.text import CountVectorizer, TfidfTransformer\n",
    "from sklearn.model_selection import train_test_split, GridSearchCV, RandomizedSearchCV\n",
    "from sklearn.pipeline import FeatureUnion, Pipeline\n"
   ]
  },
  {
   "cell_type": "code",
   "execution_count": 3,
   "metadata": {},
   "outputs": [
    {
     "data": {
      "text/plain": [
       "'/home/workspace'"
      ]
     },
     "execution_count": 3,
     "metadata": {},
     "output_type": "execute_result"
    }
   ],
   "source": [
    "import os\n",
    "os.path.abspath(os.getcwd())"
   ]
  },
  {
   "cell_type": "markdown",
   "metadata": {},
   "source": [
    "### Loading Up DATABASE 'disaster_response' Prepared from ETL Stage"
   ]
  },
  {
   "cell_type": "code",
   "execution_count": 4,
   "metadata": {},
   "outputs": [],
   "source": [
    "# load data from database\n",
    "#def load_data(data_file)\n",
    "def load_data():\n",
    "    engine = create_engine('sqlite:///disaster_response.db')\n",
    "    conn = engine.connect()\n",
    "    df = pd.read_sql_table('disaster_response', conn)\n",
    "    #df.head(2)\n",
    "    X = df.message.values\n",
    "    \n",
    "    y = df.iloc[:, 4:]\n",
    "    ##y.dropna(axis = 0, how = 'any', inplace=True)\n",
    "    ##y.fillna(0, inplace=True)\n",
    "    colnames = y.columns\n",
    "    #y = y.values\n",
    "    engine.dispose()\n",
    "    \n",
    "    return X, y, colnames"
   ]
  },
  {
   "cell_type": "code",
   "execution_count": null,
   "metadata": {},
   "outputs": [],
   "source": []
  },
  {
   "cell_type": "markdown",
   "metadata": {},
   "source": [
    "### Starting Verb Extractor"
   ]
  },
  {
   "cell_type": "markdown",
   "metadata": {},
   "source": [
    "Starting Verb Extractor Function is creating a Few NAN values, that is why avoiding its use for now"
   ]
  },
  {
   "cell_type": "code",
   "execution_count": null,
   "metadata": {},
   "outputs": [],
   "source": [
    "class StartingVerbExtractor(BaseEstimator, TransformerMixin):\n",
    "\n",
    "    def starting_verb(self, text):\n",
    "        # tokenize by sentences\n",
    "        sentence_list = nltk.sent_tokenize(text)\n",
    "        \n",
    "        for sentence in sentence_list:\n",
    "            # tokenize each sentence into words and tag part of speech\n",
    "            pos_tags = nltk.pos_tag(word_tokenize(sentence))\n",
    "\n",
    "            # index pos_tags to get the first word and part of speech tag\n",
    "            first_word, first_tag = pos_tags[0][0], pos_tags[0][1]\n",
    "            \n",
    "            # return true if the first word is an appropriate verb or RT for retweet\n",
    "            if first_tag in ['VB', 'VBP'] or first_word == 'RT':\n",
    "                return 1\n",
    "\n",
    "            return 0\n",
    "\n",
    "    def fit(self, x, y=None):\n",
    "        return self\n",
    "\n",
    "    def transform(self, X):\n",
    "        # apply starting_verb function to all values in X\n",
    "        X_tagged = pd.Series(X).apply(self.starting_verb)\n",
    "\n",
    "        return pd.DataFrame(X_tagged)"
   ]
  },
  {
   "cell_type": "markdown",
   "metadata": {},
   "source": [
    "### 2. Write a tokenization function to process your text data"
   ]
  },
  {
   "cell_type": "code",
   "execution_count": 5,
   "metadata": {},
   "outputs": [],
   "source": [
    "def tokenize(text):\n",
    "    \n",
    "    tokens = word_tokenize(text)\n",
    "    tokens_wihtout_sw = [w for w in tokens if w not in stopwords.words(\"english\") ]\n",
    "    lemmatizer = WordNetLemmatizer()\n",
    "    \n",
    "    clean_tokens = []\n",
    "    \n",
    "    for tok in tokens_wihtout_sw:\n",
    "        clean_tok = lemmatizer.lemmatize(tok).lower().strip()\n",
    "        clean_tokens.append(clean_tok)\n",
    "\n",
    "        \n",
    "    return clean_tokens"
   ]
  },
  {
   "cell_type": "markdown",
   "metadata": {},
   "source": [
    "### 3. Build a machine learning pipeline\n",
    "This machine pipeline should take in the `message` column as input and output classification results on the other 36 categories in the dataset. You may find the [MultiOutputClassifier](http://scikit-learn.org/stable/modules/generated/sklearn.multioutput.MultiOutputClassifier.html) helpful for predicting multiple target variables."
   ]
  },
  {
   "cell_type": "markdown",
   "metadata": {},
   "source": [
    "** Feature Union Enables Parallel Execution of Code - Removed"
   ]
  },
  {
   "cell_type": "code",
   "execution_count": 6,
   "metadata": {},
   "outputs": [],
   "source": [
    "def model_pipeline():\n",
    "    pipeline = Pipeline([\n",
    "        ('text_pipeline', Pipeline([\n",
    "            ('vect', CountVectorizer(tokenizer=tokenize)), \n",
    "            ('tfidf', TfidfTransformer())\n",
    "        ])),\n",
    "        ('mclf', MultiOutputClassifier(RandomForestClassifier()))\n",
    "#        ('clf', RandomForestClassifier())\n",
    "    ])\n",
    "    \n",
    "    return pipeline"
   ]
  },
  {
   "cell_type": "markdown",
   "metadata": {},
   "source": [
    "model-pipeline_with_sw to be used when using verb extracting function"
   ]
  },
  {
   "cell_type": "markdown",
   "metadata": {},
   "source": [
    "#### 3.2 With GridSearch"
   ]
  },
  {
   "cell_type": "code",
   "execution_count": 7,
   "metadata": {},
   "outputs": [],
   "source": [
    "def model_pipeline_with_RS():\n",
    "    pipeline = Pipeline([\n",
    "        ('text_pipeline', Pipeline([\n",
    "            ('vect', CountVectorizer(tokenizer=tokenize)), \n",
    "            ('tfidf', TfidfTransformer())\n",
    "        ])),\n",
    "        ('mclf', MultiOutputClassifier(RandomForestClassifier()))\n",
    "#        ('clf', RandomForestClassifier())\n",
    "    ])\n",
    "    \n",
    "    parameters = {\n",
    "        #'text_pipeline__vect__ngram_range': ((1, 1), (1, 2)),\n",
    "        'text_pipeline__vect__max_df': (0.5, 0.75),\n",
    "        'text_pipeline__vect__max_features': (None, 7000),\n",
    "        #'text_pipeline__tfidf__use_idf': (True, False),\n",
    "        #'mclf__estimator__max_depth': [2, 3],\n",
    "        #'mclf__estimator__min_samples_split': [2, 3],\n",
    "        'mclf__estimator__n_estimators': [50, 70],\n",
    "        #'mclf__estimator__max_leaf_nodes' : [3,4]\n",
    "        \n",
    "        \n",
    "    }\n",
    "\n",
    "    #cv = RandomizedSearchCV(pipeline, param_distributions=parameters)\n",
    "    cv = GridSearchCV(pipeline, param_grid=parameters, n_jobs = 4, cv = 3)\n",
    "\n",
    "    return cv"
   ]
  },
  {
   "cell_type": "code",
   "execution_count": 8,
   "metadata": {
    "scrolled": true
   },
   "outputs": [
    {
     "data": {
      "text/plain": [
       "dict_keys(['estimator__bootstrap', 'estimator__class_weight', 'estimator__criterion', 'estimator__max_depth', 'estimator__max_features', 'estimator__max_leaf_nodes', 'estimator__min_impurity_decrease', 'estimator__min_impurity_split', 'estimator__min_samples_leaf', 'estimator__min_samples_split', 'estimator__min_weight_fraction_leaf', 'estimator__n_estimators', 'estimator__n_jobs', 'estimator__oob_score', 'estimator__random_state', 'estimator__verbose', 'estimator__warm_start', 'estimator', 'n_jobs'])"
      ]
     },
     "execution_count": 8,
     "metadata": {},
     "output_type": "execute_result"
    }
   ],
   "source": [
    "m = MultiOutputClassifier(RandomForestClassifier())\n",
    "m.get_params().keys()"
   ]
  },
  {
   "cell_type": "markdown",
   "metadata": {},
   "source": [
    "#### 3.3 With Multiple Models"
   ]
  },
  {
   "cell_type": "code",
   "execution_count": 9,
   "metadata": {},
   "outputs": [
    {
     "ename": "IndentationError",
     "evalue": "expected an indented block (<ipython-input-9-611ba66fb753>, line 4)",
     "output_type": "error",
     "traceback": [
      "\u001b[0;36m  File \u001b[0;32m\"<ipython-input-9-611ba66fb753>\"\u001b[0;36m, line \u001b[0;32m4\u001b[0m\n\u001b[0;31m    def __init__(\u001b[0m\n\u001b[0m      ^\u001b[0m\n\u001b[0;31mIndentationError\u001b[0m\u001b[0;31m:\u001b[0m expected an indented block\n"
     ]
    }
   ],
   "source": [
    "from sklearn.base import BaseEstimator\n",
    "class ClfSwitcher(BaseEstimator):\n",
    "\n",
    "    def __init__(\n",
    "        self, \n",
    "        estimator = RandomForestClassifier(),\n",
    "    ):\n",
    "\"\"\"\n",
    "    A Custom BaseEstimator that can switch between classifiers.\n",
    "    :param estimator: sklearn object - The classifier\n",
    "\"\"\" \n",
    "\n",
    "        return self.estimator = estimator\n",
    "    \n",
    "    "
   ]
  },
  {
   "cell_type": "code",
   "execution_count": 10,
   "metadata": {},
   "outputs": [],
   "source": [
    "def model_pipeline_with_Multiple():\n",
    "    pipeline = Pipeline([\n",
    "        ('text_pipeline', Pipeline([\n",
    "            ('vect', CountVectorizer(tokenizer=tokenize)), \n",
    "            ('tfidf', TfidfTransformer())\n",
    "        ])),\n",
    "        ('clf', ClfSwitcher())\n",
    "    ])\n",
    "\n",
    "    parameters = [\n",
    "        {\n",
    "            'clf__estimator': [RandomForestClassifier()], # SVM if hinge loss / logreg if log loss\n",
    "            'tfidf__max_df': (0.25, 0.5),\n",
    "            #'tfidf__stop_words': ['english', None],\n",
    "            #'clf__estimator__penalty': ('l2', 'elasticnet', 'l1'),\n",
    "            'clf__estimator__max_iter': [50, 80],\n",
    "            #'clf__estimator__tol': [1e-4],\n",
    "            #'clf__estimator__loss': ['hinge', 'log', 'modified_huber'],\n",
    "        },\n",
    "        {\n",
    "            'clf__estimator': [MultiOutputClassifier(RandomForestClassifier())],\n",
    "            #'text_pipeline__vect__ngram_range': ((1, 1), (1, 2)),\n",
    "            'text_pipeline__vect__max_df': (0.5, 0.75),\n",
    "            'text_pipeline__vect__max_features': (None, 7000),\n",
    "            #'text_pipeline__tfidf__use_idf': (True, False),\n",
    "            #'clf__estimator__max_depth': [2, 3],\n",
    "            #'clf__estimator__min_samples_split': [2, 3],\n",
    "            'clf__estimator__n_estimators': [50, 70],\n",
    "            #'clf__estimator__max_leaf_nodes' : [3,4]\n",
    "        },\n",
    "    ]\n",
    "\n",
    "    gscv = GridSearchCV(pipeline, parameters, cv=5, n_jobs=12, return_train_score=False, verbose=3)\n",
    "    #gscv.fit(train_data, train_labels)\n",
    "    \n",
    "    return gscv"
   ]
  },
  {
   "cell_type": "markdown",
   "metadata": {},
   "source": [
    "### 4. Train pipeline\n",
    "- Split data into train and test sets\n",
    "- Train pipeline"
   ]
  },
  {
   "cell_type": "code",
   "execution_count": 11,
   "metadata": {},
   "outputs": [],
   "source": [
    "#def display_results(y_test, y_pred):\n",
    "#    labels = np.unique(y_pred)\n",
    "#    confusion_mat = confusion_matrix(y_test, y_pred, labels=labels)\n",
    "#    accuracy = (y_pred == y_test).mean()\n",
    "\n",
    "#    print(\"Labels:\", labels)\n",
    "#    print(\"Confusion Matrix:\\n\", confusion_mat)\n",
    "#    print(\"Accuracy:\", accuracy)"
   ]
  },
  {
   "cell_type": "code",
   "execution_count": 12,
   "metadata": {},
   "outputs": [],
   "source": [
    "def train(model_specified):\n",
    "    \n",
    "    X, y, column_names = load_data()\n",
    "    \n",
    "    X_train, X_test, y_train, y_test = train_test_split(X, y, test_size=0.25, random_state = 42)\n",
    "\n",
    "    model = model_specified\n",
    "\n",
    "    model.fit(X_train, y_train)\n",
    "    y_pred = model.predict(X_test)\n",
    "    \n",
    "    #display_results(y_test, y_pred)\n",
    "    return y_test, y_pred, column_names"
   ]
  },
  {
   "cell_type": "markdown",
   "metadata": {},
   "source": [
    "### 5. Test your model\n",
    "Report the f1 score, precision and recall for each output category of the dataset. You can do this by iterating through the columns and calling sklearn's `classification_report` on each."
   ]
  },
  {
   "cell_type": "code",
   "execution_count": 13,
   "metadata": {},
   "outputs": [],
   "source": [
    "y_test, y_pred, column_names = train(model_pipeline())"
   ]
  },
  {
   "cell_type": "code",
   "execution_count": 14,
   "metadata": {},
   "outputs": [],
   "source": [
    "target_dataframe = pd.DataFrame(y_pred, columns = column_names)"
   ]
  },
  {
   "cell_type": "code",
   "execution_count": 15,
   "metadata": {},
   "outputs": [
    {
     "name": "stdout",
     "output_type": "stream",
     "text": [
      "Model Confusion Matrix for the related are below\n",
      "             precision    recall  f1-score   support\n",
      "\n",
      "          0       0.32      0.13      0.18      1555\n",
      "          1       0.76      0.91      0.83      4955\n",
      "          2       0.00      0.00      0.00        42\n",
      "\n",
      "avg / total       0.66      0.72      0.67      6552\n",
      "\n",
      "Model Confusion Matrix for the request are below\n",
      "             precision    recall  f1-score   support\n",
      "\n",
      "          0       0.84      0.97      0.90      5454\n",
      "          1       0.38      0.09      0.14      1098\n",
      "\n",
      "avg / total       0.76      0.82      0.77      6552\n",
      "\n",
      "Model Confusion Matrix for the offer are below\n",
      "             precision    recall  f1-score   support\n",
      "\n",
      "          0       1.00      1.00      1.00      6527\n",
      "          1       0.00      0.00      0.00        25\n",
      "\n",
      "avg / total       0.99      1.00      0.99      6552\n",
      "\n",
      "Model Confusion Matrix for the aid_related are below\n",
      "             precision    recall  f1-score   support\n",
      "\n",
      "          0       0.60      0.81      0.69      3878\n",
      "          1       0.42      0.21      0.28      2674\n",
      "\n",
      "avg / total       0.53      0.56      0.52      6552\n",
      "\n",
      "Model Confusion Matrix for the medical_help are below\n",
      "             precision    recall  f1-score   support\n",
      "\n",
      "          0       0.92      1.00      0.96      6035\n",
      "          1       0.00      0.00      0.00       517\n",
      "\n",
      "avg / total       0.85      0.92      0.88      6552\n",
      "\n",
      "Model Confusion Matrix for the medical_products are below\n",
      "             precision    recall  f1-score   support\n",
      "\n",
      "          0       0.95      1.00      0.97      6240\n",
      "          1       0.07      0.01      0.01       312\n",
      "\n",
      "avg / total       0.91      0.95      0.93      6552\n",
      "\n",
      "Model Confusion Matrix for the search_and_rescue are below\n",
      "             precision    recall  f1-score   support\n",
      "\n",
      "          0       0.97      1.00      0.99      6380\n",
      "          1       0.00      0.00      0.00       172\n",
      "\n",
      "avg / total       0.95      0.97      0.96      6552\n",
      "\n",
      "Model Confusion Matrix for the security are below\n",
      "             precision    recall  f1-score   support\n",
      "\n",
      "          0       0.98      1.00      0.99      6419\n",
      "          1       0.00      0.00      0.00       133\n",
      "\n",
      "avg / total       0.96      0.98      0.97      6552\n",
      "\n",
      "Model Confusion Matrix for the military are below\n",
      "             precision    recall  f1-score   support\n",
      "\n",
      "          0       0.97      1.00      0.98      6334\n",
      "          1       0.00      0.00      0.00       218\n",
      "\n",
      "avg / total       0.93      0.97      0.95      6552\n",
      "\n",
      "Model Confusion Matrix for the child_alone are below\n",
      "             precision    recall  f1-score   support\n",
      "\n",
      "          0       1.00      1.00      1.00      6552\n",
      "\n",
      "avg / total       1.00      1.00      1.00      6552\n",
      "\n",
      "Model Confusion Matrix for the water are below\n",
      "             precision    recall  f1-score   support\n",
      "\n",
      "          0       0.94      1.00      0.97      6161\n",
      "          1       0.06      0.01      0.01       391\n",
      "\n",
      "avg / total       0.89      0.94      0.91      6552\n",
      "\n",
      "Model Confusion Matrix for the food are below\n",
      "             precision    recall  f1-score   support\n",
      "\n",
      "          0       0.89      0.99      0.94      5854\n",
      "          1       0.13      0.01      0.02       698\n",
      "\n",
      "avg / total       0.81      0.89      0.84      6552\n",
      "\n",
      "Model Confusion Matrix for the shelter are below\n",
      "             precision    recall  f1-score   support\n",
      "\n",
      "          0       0.91      0.99      0.95      5960\n",
      "          1       0.07      0.01      0.01       592\n",
      "\n",
      "avg / total       0.83      0.90      0.86      6552\n",
      "\n",
      "Model Confusion Matrix for the clothing are below\n",
      "             precision    recall  f1-score   support\n",
      "\n",
      "          0       0.98      1.00      0.99      6449\n",
      "          1       0.00      0.00      0.00       103\n",
      "\n",
      "avg / total       0.97      0.98      0.98      6552\n",
      "\n",
      "Model Confusion Matrix for the money are below\n",
      "             precision    recall  f1-score   support\n",
      "\n",
      "          0       0.98      1.00      0.99      6398\n",
      "          1       0.00      0.00      0.00       154\n",
      "\n",
      "avg / total       0.95      0.98      0.96      6552\n",
      "\n",
      "Model Confusion Matrix for the missing_people are below\n",
      "             precision    recall  f1-score   support\n",
      "\n",
      "          0       0.99      1.00      0.99      6467\n",
      "          1       0.00      0.00      0.00        85\n",
      "\n",
      "avg / total       0.97      0.99      0.98      6552\n",
      "\n",
      "Model Confusion Matrix for the refugees are below\n",
      "             precision    recall  f1-score   support\n",
      "\n",
      "          0       0.96      1.00      0.98      6294\n",
      "          1       0.25      0.00      0.01       258\n",
      "\n",
      "avg / total       0.93      0.96      0.94      6552\n",
      "\n",
      "Model Confusion Matrix for the death are below\n",
      "             precision    recall  f1-score   support\n",
      "\n",
      "          0       0.95      1.00      0.98      6252\n",
      "          1       0.07      0.00      0.01       300\n",
      "\n",
      "avg / total       0.91      0.95      0.93      6552\n",
      "\n",
      "Model Confusion Matrix for the other_aid are below\n",
      "             precision    recall  f1-score   support\n",
      "\n",
      "          0       0.87      0.98      0.92      5707\n",
      "          1       0.10      0.01      0.02       845\n",
      "\n",
      "avg / total       0.77      0.86      0.81      6552\n",
      "\n",
      "Model Confusion Matrix for the infrastructure_related are below\n",
      "             precision    recall  f1-score   support\n",
      "\n",
      "          0       0.93      1.00      0.96      6119\n",
      "          1       0.00      0.00      0.00       433\n",
      "\n",
      "avg / total       0.87      0.93      0.90      6552\n",
      "\n",
      "Model Confusion Matrix for the transport are below\n",
      "             precision    recall  f1-score   support\n",
      "\n",
      "          0       0.95      1.00      0.97      6235\n",
      "          1       0.22      0.01      0.01       317\n",
      "\n",
      "avg / total       0.92      0.95      0.93      6552\n",
      "\n",
      "Model Confusion Matrix for the buildings are below\n",
      "             precision    recall  f1-score   support\n",
      "\n",
      "          0       0.95      1.00      0.97      6218\n",
      "          1       0.07      0.01      0.01       334\n",
      "\n",
      "avg / total       0.90      0.95      0.92      6552\n",
      "\n",
      "Model Confusion Matrix for the electricity are below\n",
      "             precision    recall  f1-score   support\n",
      "\n",
      "          0       0.98      1.00      0.99      6417\n",
      "          1       0.00      0.00      0.00       135\n",
      "\n",
      "avg / total       0.96      0.98      0.97      6552\n",
      "\n",
      "Model Confusion Matrix for the tools are below\n",
      "             precision    recall  f1-score   support\n",
      "\n",
      "          0       1.00      1.00      1.00      6521\n",
      "          1       0.00      0.00      0.00        31\n",
      "\n",
      "avg / total       0.99      0.99      0.99      6552\n",
      "\n",
      "Model Confusion Matrix for the hospitals are below\n",
      "             precision    recall  f1-score   support\n",
      "\n",
      "          0       0.99      1.00      0.99      6479\n",
      "          1       0.00      0.00      0.00        73\n",
      "\n",
      "avg / total       0.98      0.99      0.98      6552\n",
      "\n",
      "Model Confusion Matrix for the shops are below\n",
      "             precision    recall  f1-score   support\n",
      "\n",
      "          0       1.00      1.00      1.00      6526\n",
      "          1       0.00      0.00      0.00        26\n",
      "\n",
      "avg / total       0.99      1.00      0.99      6552\n",
      "\n",
      "Model Confusion Matrix for the aid_centers are below\n",
      "             precision    recall  f1-score   support\n",
      "\n",
      "          0       0.99      1.00      0.99      6476\n",
      "          1       0.00      0.00      0.00        76\n",
      "\n",
      "avg / total       0.98      0.99      0.98      6552\n",
      "\n",
      "Model Confusion Matrix for the other_infrastructure are below\n",
      "             precision    recall  f1-score   support\n",
      "\n",
      "          0       0.95      1.00      0.98      6251\n",
      "          1       0.00      0.00      0.00       301\n",
      "\n",
      "avg / total       0.91      0.95      0.93      6552\n",
      "\n",
      "Model Confusion Matrix for the weather_related are below\n",
      "             precision    recall  f1-score   support\n",
      "\n",
      "          0       0.75      0.94      0.83      4757\n",
      "          1       0.52      0.17      0.26      1795\n",
      "\n",
      "avg / total       0.69      0.73      0.68      6552\n",
      "\n",
      "Model Confusion Matrix for the floods are below\n",
      "             precision    recall  f1-score   support\n",
      "\n",
      "          0       0.92      1.00      0.95      6005\n",
      "          1       0.12      0.01      0.01       547\n",
      "\n",
      "avg / total       0.85      0.91      0.88      6552\n",
      "\n",
      "Model Confusion Matrix for the storm are below\n",
      "             precision    recall  f1-score   support\n",
      "\n",
      "          0       0.91      0.99      0.95      5927\n",
      "          1       0.33      0.02      0.04       625\n",
      "\n",
      "avg / total       0.85      0.90      0.86      6552\n",
      "\n",
      "Model Confusion Matrix for the fire are below\n",
      "             precision    recall  f1-score   support\n",
      "\n",
      "          0       0.99      1.00      1.00      6487\n",
      "          1       0.00      0.00      0.00        65\n",
      "\n",
      "avg / total       0.98      0.99      0.99      6552\n",
      "\n",
      "Model Confusion Matrix for the earthquake are below\n",
      "             precision    recall  f1-score   support\n",
      "\n",
      "          0       0.92      0.99      0.95      5951\n",
      "          1       0.63      0.15      0.24       601\n",
      "\n",
      "avg / total       0.89      0.91      0.89      6552\n",
      "\n",
      "Model Confusion Matrix for the cold are below\n",
      "             precision    recall  f1-score   support\n",
      "\n",
      "          0       0.98      1.00      0.99      6427\n",
      "          1       0.00      0.00      0.00       125\n",
      "\n",
      "avg / total       0.96      0.98      0.97      6552\n",
      "\n",
      "Model Confusion Matrix for the other_weather are below\n",
      "             precision    recall  f1-score   support\n",
      "\n",
      "          0       0.95      1.00      0.97      6227\n",
      "          1       0.00      0.00      0.00       325\n",
      "\n",
      "avg / total       0.90      0.95      0.93      6552\n",
      "\n",
      "Model Confusion Matrix for the direct_report are below\n",
      "             precision    recall  f1-score   support\n",
      "\n",
      "          0       0.82      0.97      0.89      5314\n",
      "          1       0.35      0.07      0.12      1238\n",
      "\n",
      "avg / total       0.73      0.80      0.74      6552\n",
      "\n"
     ]
    },
    {
     "name": "stderr",
     "output_type": "stream",
     "text": [
      "/opt/conda/lib/python3.6/site-packages/sklearn/metrics/classification.py:1135: UndefinedMetricWarning: Precision and F-score are ill-defined and being set to 0.0 in labels with no predicted samples.\n",
      "  'precision', 'predicted', average, warn_for)\n"
     ]
    }
   ],
   "source": [
    "for i, value in enumerate(target_dataframe):\n",
    "    print(\"Model Confusion Matrix for the\", value, \"are below\")\n",
    "    print(classification_report(y_test.iloc[:,i], target_dataframe.iloc[:,i] ))"
   ]
  },
  {
   "cell_type": "markdown",
   "metadata": {},
   "source": [
    "### 6. Improve your model\n",
    "Use grid search to find better parameters. "
   ]
  },
  {
   "cell_type": "markdown",
   "metadata": {},
   "source": [
    "#### Using Parameters Map Used Earlier to estimate the time taken"
   ]
  },
  {
   "cell_type": "code",
   "execution_count": 16,
   "metadata": {},
   "outputs": [],
   "source": [
    "parameters = {\n",
    "        #'text_pipeline__vect__ngram_range': ((1, 1), (1, 2)),\n",
    "        'text_pipeline__vect__max_df': (0.5, 0.75),\n",
    "        'text_pipeline__vect__max_features': (None, 7000),\n",
    "        #'text_pipeline__tfidf__use_idf': (True, False),\n",
    "        #'mclf__estimator__max_depth': [2, 3],\n",
    "        #'mclf__estimator__min_samples_split': [2, 3],\n",
    "        'mclf__estimator__n_estimators': [50, 70],\n",
    "        #'mclf__estimator__max_leaf_nodes' : [3,4]\n",
    "        \n",
    "        \n",
    "    }\n",
    "#cv = "
   ]
  },
  {
   "cell_type": "code",
   "execution_count": 17,
   "metadata": {
    "scrolled": true
   },
   "outputs": [
    {
     "name": "stdout",
     "output_type": "stream",
     "text": [
      "There are 8 combinations\n"
     ]
    }
   ],
   "source": [
    "com = 1\n",
    "for x in parameters.values():\n",
    "    com *= len(x)\n",
    "print('There are {} combinations'.format(com))"
   ]
  },
  {
   "cell_type": "markdown",
   "metadata": {},
   "source": [
    "##### Assuming 100 calculations per second, time taken would be"
   ]
  },
  {
   "cell_type": "code",
   "execution_count": 18,
   "metadata": {},
   "outputs": [
    {
     "name": "stdout",
     "output_type": "stream",
     "text": [
      "This would take 13 minutes to finish.\n"
     ]
    }
   ],
   "source": [
    "print('This would take {:.0f} minutes to finish.'.format((100 * com) / (60)))"
   ]
  },
  {
   "cell_type": "markdown",
   "metadata": {},
   "source": [
    "### Predicting with GridSearch"
   ]
  },
  {
   "cell_type": "code",
   "execution_count": null,
   "metadata": {},
   "outputs": [],
   "source": [
    "y_test, y_pred, column_names = train(model_pipeline_with_RS())"
   ]
  },
  {
   "cell_type": "markdown",
   "metadata": {},
   "source": [
    "### 7. Test your model\n",
    "Show the accuracy, precision, and recall of the tuned model.  \n",
    "\n",
    "Since this project focuses on code quality, process, and  pipelines, there is no minimum performance metric needed to pass. However, make sure to fine tune your models for accuracy, precision and recall to make your project stand out - especially for your portfolio!"
   ]
  },
  {
   "cell_type": "code",
   "execution_count": null,
   "metadata": {},
   "outputs": [],
   "source": []
  },
  {
   "cell_type": "markdown",
   "metadata": {},
   "source": [
    "### 8. Try improving your model further. Here are a few ideas:\n",
    "* try other machine learning algorithms\n",
    "* add other features besides the TF-IDF"
   ]
  },
  {
   "cell_type": "code",
   "execution_count": null,
   "metadata": {},
   "outputs": [],
   "source": []
  },
  {
   "cell_type": "markdown",
   "metadata": {},
   "source": [
    "### 9. Export your model as a pickle file"
   ]
  },
  {
   "cell_type": "code",
   "execution_count": null,
   "metadata": {},
   "outputs": [],
   "source": []
  },
  {
   "cell_type": "markdown",
   "metadata": {},
   "source": [
    "### 10. Use this notebook to complete `train.py`\n",
    "Use the template file attached in the Resources folder to write a script that runs the steps above to create a database and export a model based on a new dataset specified by the user."
   ]
  },
  {
   "cell_type": "code",
   "execution_count": null,
   "metadata": {},
   "outputs": [],
   "source": []
  }
 ],
 "metadata": {
  "kernelspec": {
   "display_name": "Python 3",
   "language": "python",
   "name": "python3"
  },
  "language_info": {
   "codemirror_mode": {
    "name": "ipython",
    "version": 3
   },
   "file_extension": ".py",
   "mimetype": "text/x-python",
   "name": "python",
   "nbconvert_exporter": "python",
   "pygments_lexer": "ipython3",
   "version": "3.6.3"
  }
 },
 "nbformat": 4,
 "nbformat_minor": 2
}
